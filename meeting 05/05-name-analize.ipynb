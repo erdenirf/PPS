{
 "cells": [
  {
   "cell_type": "code",
   "execution_count": 1,
   "metadata": {},
   "outputs": [],
   "source": [
    "import numpy as np\n",
    "import pandas as pd\n",
    "import matplotlib.pyplot as plt\n",
    "import seaborn as sns\n",
    "from IPython.display import display"
   ]
  },
  {
   "cell_type": "markdown",
   "metadata": {},
   "source": [
    "### Часть 1\n",
    "\n",
    "Источник данных тут https://www.ssa.gov/oact/babynames/limits.html\n",
    "\n",
    "План:\n",
    "1. Скачать архив\n",
    "2. Распаковать\n",
    "3. Взять данные за 1880 год и присвоить имена колонкам: имя, пол, количество родившихся.\n",
    "4. Найти сколько всего уникальных имен мальчиков и девочек.\n",
    "5. Сколько всего родилось мальчиков и девочек."
   ]
  },
  {
   "cell_type": "code",
   "execution_count": 2,
   "metadata": {},
   "outputs": [],
   "source": [
    "# ответ 1.3, ваш код\n"
   ]
  },
  {
   "cell_type": "code",
   "execution_count": 3,
   "metadata": {},
   "outputs": [],
   "source": [
    "# ответ 1.4, ваш код\n"
   ]
  },
  {
   "cell_type": "code",
   "execution_count": 4,
   "metadata": {},
   "outputs": [],
   "source": [
    "# ответ 1.5, ваш код\n"
   ]
  },
  {
   "cell_type": "markdown",
   "metadata": {},
   "source": [
    "### Часть 2\n",
    "\n",
    "План:\n",
    "1. Собрать единую таблицу из разных файлов\n",
    "2. Построить сводную таблицу по годам для количества рожденных мальчиков и девочек\n",
    "3. Рисуем график рождаемости (2 графика matplotlib, seaborn)"
   ]
  },
  {
   "cell_type": "code",
   "execution_count": 5,
   "metadata": {},
   "outputs": [],
   "source": [
    "# ответ 2.1, ваш код\n"
   ]
  },
  {
   "cell_type": "code",
   "execution_count": 6,
   "metadata": {},
   "outputs": [],
   "source": [
    "# ответ 2.2, ваш код\n"
   ]
  },
  {
   "cell_type": "code",
   "execution_count": 7,
   "metadata": {},
   "outputs": [],
   "source": [
    "# ответ 2.3, ваш код\n"
   ]
  },
  {
   "cell_type": "markdown",
   "metadata": {},
   "source": [
    "### Часть 3.\n",
    "\n",
    "План (пишем свои функции):\n",
    "1. Найдем для каждого имени долю детей с данным именем относительно общего количества родившихся детей в году в зависимости от пола. Результат добавить отдельным столбцом в таблицу - процент.\n",
    "2. Отберем 1000 имен самых популярных имен для каждой каждого года в зависимости от пола. Результат сохранить в виде таблицы top_1000"
   ]
  },
  {
   "cell_type": "code",
   "execution_count": 8,
   "metadata": {},
   "outputs": [],
   "source": [
    "# ответ 3.1, ваш код\n"
   ]
  },
  {
   "cell_type": "code",
   "execution_count": 9,
   "metadata": {},
   "outputs": [],
   "source": [
    "# ответ 3.2, ваш код\n"
   ]
  },
  {
   "cell_type": "markdown",
   "metadata": {},
   "source": [
    "### Часть 4.\n",
    "\n",
    "План (построить график):\n",
    "\n",
    "Найдем по два самых популярных в истории имени мальчиков и девочек и построим графики:\n",
    "1.\tВ абсолютном значении - как менялось количество родившихся мальчиков с двумя самыми популярными именами в зависимости от года\n",
    "2.\tВ относительном значении - как менялось количество родившихся девочек с двумя самыми популярными именами в зависимости от года\n",
    "3. Построим в абсолютном значении график для всех четывех имен.\n"
   ]
  },
  {
   "cell_type": "code",
   "execution_count": 10,
   "metadata": {},
   "outputs": [],
   "source": [
    "# ответ 4.1, ваш код\n"
   ]
  },
  {
   "cell_type": "code",
   "execution_count": 11,
   "metadata": {},
   "outputs": [],
   "source": [
    "# ответ 4.2, ваш код\n"
   ]
  },
  {
   "cell_type": "code",
   "execution_count": 12,
   "metadata": {},
   "outputs": [],
   "source": [
    "# ответ 4.3, ваш код\n"
   ]
  },
  {
   "cell_type": "markdown",
   "metadata": {},
   "source": [
    "### Часть 5.\n",
    "\n",
    "Свободное задание: построить зависимость, отражающую растущее разнообразие имен в зависимости от года."
   ]
  },
  {
   "cell_type": "code",
   "execution_count": 13,
   "metadata": {},
   "outputs": [],
   "source": [
    "# ответ 5, ваш код\n"
   ]
  },
  {
   "cell_type": "markdown",
   "metadata": {},
   "source": [
    "### Часть 6.\n",
    "\n",
    "Свободное задание: построить тренд, отражающий количество самых популярных имен для 50% родившехся мальчиков и девочек "
   ]
  },
  {
   "cell_type": "code",
   "execution_count": 14,
   "metadata": {},
   "outputs": [],
   "source": [
    "# ответ 6, ваш код\n"
   ]
  },
  {
   "cell_type": "markdown",
   "metadata": {},
   "source": [
    "### Часть 7.\n",
    "\n",
    "В 2007 году исследователь детских имен Лора Ваттенберг указала на своем веб-сайте, \n",
    "что распределение имен мальчиков по последним буквам значительно изменилось за последние 100 лет.\n",
    "\n",
    "Подтвердите или опровергните это утверждение (в сравнении 1910, 1940, 1970, 2020 года)\n",
    "\n",
    "А что с девочками?\n"
   ]
  },
  {
   "cell_type": "code",
   "execution_count": 15,
   "metadata": {},
   "outputs": [],
   "source": [
    "# ответ 7, ваш код\n"
   ]
  },
  {
   "cell_type": "markdown",
   "metadata": {},
   "source": [
    "### Часть 8.\n",
    "\n",
    "Смена половой предпочтительности имени Leslie-Lesly (корень Lesl). Построить график. "
   ]
  },
  {
   "cell_type": "code",
   "execution_count": 16,
   "metadata": {},
   "outputs": [],
   "source": [
    "# ответ 7, ваш код\n"
   ]
  }
 ],
 "metadata": {
  "kernelspec": {
   "display_name": "Python 3",
   "language": "python",
   "name": "python3"
  },
  "language_info": {
   "codemirror_mode": {
    "name": "ipython",
    "version": 3
   },
   "file_extension": ".py",
   "mimetype": "text/x-python",
   "name": "python",
   "nbconvert_exporter": "python",
   "pygments_lexer": "ipython3",
   "version": "3.8.5"
  }
 },
 "nbformat": 4,
 "nbformat_minor": 2
}
