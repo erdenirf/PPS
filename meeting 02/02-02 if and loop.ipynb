{
 "cells": [
  {
   "cell_type": "markdown",
   "metadata": {},
   "source": [
    "# Условия"
   ]
  },
  {
   "cell_type": "code",
   "execution_count": 27,
   "metadata": {},
   "outputs": [
    {
     "name": "stdout",
     "output_type": "stream",
     "text": [
      "Истина\n"
     ]
    }
   ],
   "source": [
    "if 1:\n",
    "    print('Истина')"
   ]
  },
  {
   "cell_type": "code",
   "execution_count": 2,
   "metadata": {},
   "outputs": [
    {
     "name": "stdout",
     "output_type": "stream",
     "text": [
      "Ложь\n"
     ]
    }
   ],
   "source": [
    "if not 1:\n",
    "    print('Истина')\n",
    "else:\n",
    "    print('Ложь')\n",
    "    "
   ]
  },
  {
   "cell_type": "code",
   "execution_count": 3,
   "metadata": {},
   "outputs": [
    {
     "name": "stdout",
     "output_type": "stream",
     "text": [
      "красить от обеда до заката\n"
     ]
    }
   ],
   "source": [
    "x = \"забор\" #  забор кошечка собачка\n",
    "if x == 'кошечка':\n",
    "    print('погладить')\n",
    "elif x == 'собачка':\n",
    "    print('дать косточку')\n",
    "else:\n",
    "    print('красить от обеда до заката')\n"
   ]
  },
  {
   "cell_type": "code",
   "execution_count": 4,
   "metadata": {},
   "outputs": [
    {
     "name": "stdout",
     "output_type": "stream",
     "text": [
      "Блок 2\n",
      "Блок 1\n",
      "Блок 0\n"
     ]
    }
   ],
   "source": [
    "x = 1\n",
    "if x:\n",
    "    y = 2 # Замените на None\n",
    "    if y:\n",
    "        print('Блок 2')\n",
    "    print('Блок 1')\n",
    "print('Блок 0')"
   ]
  },
  {
   "cell_type": "markdown",
   "metadata": {},
   "source": [
    "# Циклы\n",
    "\n",
    "## первый тип - цикл for"
   ]
  },
  {
   "cell_type": "code",
   "execution_count": 5,
   "metadata": {},
   "outputs": [
    {
     "name": "stdout",
     "output_type": "stream",
     "text": [
      "хлеб\n",
      "яйца\n",
      "вечина\n"
     ]
    }
   ],
   "source": [
    "for x in ['хлеб', 'яйца', 'вечина']:\n",
    "    print(x)"
   ]
  },
  {
   "cell_type": "code",
   "execution_count": 6,
   "metadata": {},
   "outputs": [
    {
     "name": "stdout",
     "output_type": "stream",
     "text": [
      "хлеб яйца вечина "
     ]
    }
   ],
   "source": [
    "for x in ['хлеб', 'яйца', 'вечина']:\n",
    "    print(x, end=' ')"
   ]
  },
  {
   "cell_type": "code",
   "execution_count": 7,
   "metadata": {},
   "outputs": [
    {
     "data": {
      "text/plain": [
       "10"
      ]
     },
     "execution_count": 7,
     "metadata": {},
     "output_type": "execute_result"
    }
   ],
   "source": [
    "summa = 0\n",
    "for x in [1, 2, 3, 4]:\n",
    "    summa = summa + x\n",
    "summa"
   ]
  },
  {
   "cell_type": "code",
   "execution_count": 8,
   "metadata": {},
   "outputs": [
    {
     "data": {
      "text/plain": [
       "24"
      ]
     },
     "execution_count": 8,
     "metadata": {},
     "output_type": "execute_result"
    }
   ],
   "source": [
    "prod = 1\n",
    "for x in [1, 2, 3, 4]:\n",
    "    prod *= x\n",
    "prod"
   ]
  },
  {
   "cell_type": "code",
   "execution_count": 9,
   "metadata": {},
   "outputs": [
    {
     "name": "stdout",
     "output_type": "stream",
     "text": [
      "буква есть\n"
     ]
    }
   ],
   "source": [
    "a = 'поищем буквы с разных словах ааааааа'\n",
    "x = 'о'\n",
    "for i in list(a):\n",
    "    if x == i:\n",
    "        print('буква есть')\n",
    "        break # прервать цикл 'continue' вернуться в начало цикла\n",
    "else:\n",
    "    print('буквы нет')"
   ]
  },
  {
   "cell_type": "code",
   "execution_count": 10,
   "metadata": {},
   "outputs": [],
   "source": [
    "# задание \n",
    "# посчитаем одинаковае буквы\n",
    "# или ответим буквы нет\n",
    "a = 'поищем буквы с разных словах ааааааа'\n",
    "x = 'а'\n"
   ]
  },
  {
   "cell_type": "markdown",
   "metadata": {},
   "source": [
    "вытащим данные из кортежа"
   ]
  },
  {
   "cell_type": "code",
   "execution_count": 11,
   "metadata": {},
   "outputs": [
    {
     "name": "stdout",
     "output_type": "stream",
     "text": [
      "1 2\n",
      "3 4\n",
      "5 6\n"
     ]
    }
   ],
   "source": [
    "A = [(1, 2), (3, 4), (5, 6)]\n",
    "for (a, b) in A:\n",
    "    print(a, b)"
   ]
  },
  {
   "cell_type": "markdown",
   "metadata": {},
   "source": [
    "вытащим данные из словаря"
   ]
  },
  {
   "cell_type": "code",
   "execution_count": 12,
   "metadata": {},
   "outputs": [
    {
     "name": "stdout",
     "output_type": "stream",
     "text": [
      "a  ->  1\n",
      "b  ->  2\n",
      "c  ->  3\n"
     ]
    }
   ],
   "source": [
    "A = {'a': 1, 'b': 2, 'c': 3 }\n",
    "for key in A:\n",
    "    print(key, ' -> ', A[key])"
   ]
  },
  {
   "cell_type": "code",
   "execution_count": 13,
   "metadata": {},
   "outputs": [
    {
     "data": {
      "text/plain": [
       "[('a', 1), ('b', 2), ('c', 3)]"
      ]
     },
     "execution_count": 13,
     "metadata": {},
     "output_type": "execute_result"
    }
   ],
   "source": [
    "list(A.items())"
   ]
  },
  {
   "cell_type": "code",
   "execution_count": 14,
   "metadata": {},
   "outputs": [
    {
     "name": "stdout",
     "output_type": "stream",
     "text": [
      "a  ->  1\n",
      "b  ->  2\n",
      "c  ->  3\n"
     ]
    }
   ],
   "source": [
    "for (key, value) in list(A.items()):\n",
    "    print(key, ' -> ', value)"
   ]
  },
  {
   "cell_type": "markdown",
   "metadata": {},
   "source": [
    "еще с кортежем"
   ]
  },
  {
   "cell_type": "code",
   "execution_count": 15,
   "metadata": {},
   "outputs": [
    {
     "data": {
      "text/plain": [
       "(1, 2, 3)"
      ]
     },
     "execution_count": 15,
     "metadata": {},
     "output_type": "execute_result"
    }
   ],
   "source": [
    "a, b, c = (1, 2, 3)\n",
    "a, b, c"
   ]
  },
  {
   "cell_type": "code",
   "execution_count": 16,
   "metadata": {},
   "outputs": [
    {
     "name": "stdout",
     "output_type": "stream",
     "text": [
      "1 2 3\n",
      "5 6 7\n",
      "8 9 10\n"
     ]
    }
   ],
   "source": [
    "for a, b, c in ((1, 2, 3),(5, 6, 7),(8, 9, 10)):\n",
    "    print( a, b, c )"
   ]
  },
  {
   "cell_type": "code",
   "execution_count": 17,
   "metadata": {},
   "outputs": [
    {
     "data": {
      "text/plain": [
       "[2, 3]"
      ]
     },
     "execution_count": 17,
     "metadata": {},
     "output_type": "execute_result"
    }
   ],
   "source": [
    "a, *b, c = (1, 2, 3, 4)\n",
    "b"
   ]
  },
  {
   "cell_type": "code",
   "execution_count": 18,
   "metadata": {},
   "outputs": [
    {
     "name": "stdout",
     "output_type": "stream",
     "text": [
      "1 [2, 3] 4\n",
      "5 [6, 7] 8\n",
      "9 [10, 11] 12\n"
     ]
    }
   ],
   "source": [
    "for a, *b, c in ((1, 2, 3, 4),(5, 6, 7, 8),(9, 10, 11, 12)):\n",
    "    print( a, b, c )"
   ]
  },
  {
   "cell_type": "markdown",
   "metadata": {},
   "source": [
    "### Задание\n",
    "\n",
    "поиск объектов key из одного списка (test) в другом списке items <br>\n",
    "ответ: значение key был найден, значение key отсутствует"
   ]
  },
  {
   "cell_type": "code",
   "execution_count": 19,
   "metadata": {},
   "outputs": [],
   "source": [
    "items = ['aaaa', 111, (2,5), 2.01]\n",
    "test = [(2,5), 3.14]\n"
   ]
  },
  {
   "cell_type": "code",
   "execution_count": 20,
   "metadata": {},
   "outputs": [
    {
     "data": {
      "text/plain": [
       "{'а', 'л'}"
      ]
     },
     "execution_count": 20,
     "metadata": {},
     "output_type": "execute_result"
    }
   ],
   "source": [
    "### Спрятанный цикл в список\n",
    "\n",
    "message = 'грузите апельсины бочками'\n",
    "vowels = {'в', 'а', 'л', 'ж', 'я'}\n",
    "\n",
    "found = set()\n",
    "for v in vowels:\n",
    "    if v in message:\n",
    "        found.add(v)\n",
    "found    "
   ]
  },
  {
   "cell_type": "code",
   "execution_count": 21,
   "metadata": {},
   "outputs": [
    {
     "data": {
      "text/plain": [
       "{'а', 'л'}"
      ]
     },
     "execution_count": 21,
     "metadata": {},
     "output_type": "execute_result"
    }
   ],
   "source": [
    "found2 = {v for v in vowels if v in message}\n",
    "found2"
   ]
  },
  {
   "cell_type": "markdown",
   "metadata": {},
   "source": [
    "## второй цикл - while"
   ]
  },
  {
   "cell_type": "code",
   "execution_count": 22,
   "metadata": {},
   "outputs": [
    {
     "name": "stdout",
     "output_type": "stream",
     "text": [
      "spam pam am m "
     ]
    }
   ],
   "source": [
    "x = 'spam'\n",
    "while x:\n",
    "    print(x, end = ' ')\n",
    "    x = x[1:]"
   ]
  },
  {
   "cell_type": "code",
   "execution_count": 23,
   "metadata": {},
   "outputs": [
    {
     "name": "stdout",
     "output_type": "stream",
     "text": [
      "0 1 2 3 4 5 6 7 8 9 "
     ]
    }
   ],
   "source": [
    "a = 0; b = 10\n",
    "while a < b:\n",
    "    print(a, end=' ')\n",
    "    a += 1"
   ]
  },
  {
   "cell_type": "code",
   "execution_count": 30,
   "metadata": {},
   "outputs": [
    {
     "name": "stdout",
     "output_type": "stream",
     "text": [
      "13 простое число\n"
     ]
    }
   ],
   "source": [
    "y = 13\n",
    "x = y // 2\n",
    "while x > 1:\n",
    "    if y % x == 0:\n",
    "        print (y, \" делится на \", x)\n",
    "        break\n",
    "    x -= 1\n",
    "else:\n",
    "    print(y, \"простое число\")"
   ]
  },
  {
   "cell_type": "markdown",
   "metadata": {},
   "source": [
    "Для ДЗ"
   ]
  },
  {
   "cell_type": "code",
   "execution_count": 31,
   "metadata": {},
   "outputs": [
    {
     "data": {
      "text/plain": [
       "'сорок два'"
      ]
     },
     "execution_count": 31,
     "metadata": {},
     "output_type": "execute_result"
    }
   ],
   "source": [
    "from num2words import num2words\n",
    "\n",
    "num2words(42, lang = 'ru')"
   ]
  },
  {
   "cell_type": "code",
   "execution_count": 32,
   "metadata": {},
   "outputs": [
    {
     "data": {
      "text/plain": [
       "'Сорок два'"
      ]
     },
     "execution_count": 32,
     "metadata": {},
     "output_type": "execute_result"
    }
   ],
   "source": [
    "a = num2words(42, lang = 'ru').capitalize()\n",
    "a"
   ]
  },
  {
   "cell_type": "code",
   "execution_count": null,
   "metadata": {},
   "outputs": [],
   "source": []
  }
 ],
 "metadata": {
  "kernelspec": {
   "display_name": "Python 3",
   "language": "python",
   "name": "python3"
  },
  "language_info": {
   "codemirror_mode": {
    "name": "ipython",
    "version": 3
   },
   "file_extension": ".py",
   "mimetype": "text/x-python",
   "name": "python",
   "nbconvert_exporter": "python",
   "pygments_lexer": "ipython3",
   "version": "3.7.4"
  }
 },
 "nbformat": 4,
 "nbformat_minor": 4
}
